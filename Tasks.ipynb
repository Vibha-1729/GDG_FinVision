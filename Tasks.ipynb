{
 "cells": [
  {
   "cell_type": "markdown",
   "metadata": {},
   "source": [
    "Webscraping Top 25 Stocks listed in NIFTY50 using requests and BeautifulSoup \n"
   ]
  },
  {
   "cell_type": "code",
   "execution_count": 10,
   "metadata": {},
   "outputs": [
    {
     "name": "stdout",
     "output_type": "stream",
     "text": [
      "Scraped Nifty50 Data:\n",
      "   Stock                PE       EPS 52 Week High 52 Week Low   LTP  \\\n",
      "0     1.  Reliance Industr   1272.85        25.36  1722467.61  0.39   \n",
      "1     2.               TCS   4473.90        33.61  1618696.17  1.23   \n",
      "2     3.         HDFC Bank   1871.75        20.68  1430928.71  1.04   \n",
      "3     4.     Bharti Airtel   1681.75        71.04  1007452.46  0.48   \n",
      "4     5.        ICICI Bank   1344.90        20.04   949165.22  0.74   \n",
      "5     6.           Infosys   1999.70        30.81   830324.82  1.90   \n",
      "6     7.    St Bk of India    861.55        10.04   768900.64  1.59   \n",
      "7     8.               ITC    470.00        28.61   588008.16  2.93   \n",
      "8     9.    Hind. Unilever   2390.10        54.64   561575.81  1.76   \n",
      "9    10.   Larsen & Toubro   3887.00        39.70   534513.28  0.72   \n",
      "10   11.  HCL Technologies   1968.80        31.75   534266.38  2.64   \n",
      "11   12.     Bajaj Finance   7182.80        28.92   444612.78  0.50   \n",
      "12   13.  Sun Pharma.Inds.   1813.45        38.83   435107.40  0.74   \n",
      "13   14.             M & M   3081.40        32.29   383180.97  0.68   \n",
      "14   15.   Kotak Mah. Bank   1805.65        18.67   358992.86  0.11   \n",
      "15   16.         Axis Bank   1148.15        12.72   355330.48  0.09   \n",
      "16   17.     Maruti Suzuki  11272.55        25.28   354411.87  1.11   \n",
      "17   18.    UltraTech Cem.  12083.90        53.06   348859.85  0.58   \n",
      "18   19.              NTPC    357.15        15.69   346316.43  2.17   \n",
      "19   20.             Wipro    309.95        27.62   324337.53  0.16   \n",
      "20   21.           O N G C    254.25         7.68   319853.60  4.82   \n",
      "21   22.     Titan Company   3508.85        96.06   311510.85  0.31   \n",
      "22   23.  Power Grid Corpn    333.85        19.76   310500.66  3.37   \n",
      "23   24.     Adani Enterp.   2527.55        51.68   291724.95  0.05   \n",
      "24   25.       Tata Motors    790.30         8.69   290919.30  0.38   \n",
      "25          Median: 50 Co.   1739.08        31.27   281543.01  0.74   \n",
      "\n",
      "   Market Cap  Volume   % Change  \n",
      "0    19323.00   -4.78  231535.00  \n",
      "1    11955.00    5.00   64259.00  \n",
      "2    18627.44    6.03   83001.72  \n",
      "3     4153.40  119.37   41473.30  \n",
      "4    13905.99   18.83   46325.78  \n",
      "5     6516.00    4.73   40986.00  \n",
      "6    20565.03   22.88  121044.68  \n",
      "7     5054.43    1.95   20735.87  \n",
      "8     2595.00   -2.14   15926.00  \n",
      "9     4098.84    5.36   61554.58  \n",
      "10    4237.00   10.52   28862.00  \n",
      "11    4013.74   12.64   17090.27  \n",
      "12    3037.33   27.86   13291.39  \n",
      "13    3361.06   35.05   37923.74  \n",
      "14    5044.05   13.07   16426.97  \n",
      "15    7435.66   19.30   31601.05  \n",
      "16    3102.50  -18.06   37449.20  \n",
      "17     825.18  -35.95   15634.73  \n",
      "18    5380.25   14.30   44696.30  \n",
      "19    3226.60   21.26   22301.60  \n",
      "20    9878.44  -27.59  158329.10  \n",
      "21     704.00  -23.06   14534.00  \n",
      "22    3793.02    0.31   11277.76  \n",
      "23    1989.19  577.60   22608.07  \n",
      "24    3450.00  -12.93  101450.00  \n",
      "25    2503.77    8.23   22454.83  \n"
     ]
    }
   ],
   "source": [
    "import requests\n",
    "from bs4 import BeautifulSoup\n",
    "import pandas as pd\n",
    "import yfinance as yf\n",
    "import numpy as np\n",
    "import matplotlib.pyplot as plt\n",
    "import seaborn as sns\n",
    "from scipy.stats import t, norm\n",
    "\n",
    "# Function to scrape Nifty50 data using requests and BeautifulSoup\n",
    "def scrape_nifty50_data():\n",
    "    # URL for Nifty50 stocks page (example: Screener.in or NSE)\n",
    "    # Send a GET request to the website\n",
    "    url ='https://www.screener.in/company/NIFTY/?page=1'\n",
    "    response = requests.get(url)\n",
    "    soup = BeautifulSoup(response.text, 'html.parser')\n",
    "\n",
    "    # Extract relevant data from the page\n",
    "    # (This will need to be customized based on the actual HTML structure of the page)\n",
    "    stocks_data = []\n",
    "    rows = soup.find_all('tr')  # Adjust to the actual table rows\n",
    "\n",
    "    # Adjust the \"Stock\" column to extract only the actual stock names\n",
    "    for row in rows[1:]:  # Skip header row\n",
    "        cols = row.find_all('td')\n",
    "        if len(cols) >= 9:  # Ensure row has enough columns\n",
    "            stock_name = cols[0].text.strip().split(\". \")[-1]  # Extract the stock name after the row number\n",
    "            stocks_data.append({\n",
    "            \"Stock\": stock_name,\n",
    "            \"PE\": cols[1].text.strip(),\n",
    "            \"EPS\": cols[2].text.strip(),\n",
    "            \"52 Week High\": cols[3].text.strip(),\n",
    "            \"52 Week Low\": cols[4].text.strip(),\n",
    "            \"LTP\": cols[5].text.strip(),\n",
    "            \"Market Cap\": cols[6].text.strip(),\n",
    "            \"Volume\": cols[7].text.strip(),\n",
    "            \"% Change\": cols[8].text.strip()\n",
    "        })       \n",
    "\n",
    "    # Convert the scraped data into a pandas DataFrame\n",
    "    nifty50_df = pd.DataFrame(stocks_data)\n",
    "    nifty50_df.reset_index(drop=True, inplace=True)\n",
    "    return nifty50_df\n",
    "\n",
    "# Main function to execute the workflow\n",
    "def main():\n",
    "    # Step 1: Scrape Nifty50 data\n",
    "    nifty50_data = scrape_nifty50_data()\n",
    "    print(\"Scraped Nifty50 Data:\")\n",
    "    pd.set_option('display.max_rows', None)\n",
    "    print(nifty50_data)\n",
    "\n",
    "   # Run the script\n",
    "if __name__ == \"__main__\":\n",
    "    main()\n"
   ]
  },
  {
   "cell_type": "markdown",
   "metadata": {},
   "source": [
    "Extracting OHLCV data from Yahoo library for 10 stocks listed in NIFTY50 and calculating returns"
   ]
  },
  {
   "cell_type": "code",
   "execution_count": 24,
   "metadata": {},
   "outputs": [
    {
     "name": "stdout",
     "output_type": "stream",
     "text": [
      "Fetching data for NESTLEIND.NS...\n"
     ]
    },
    {
     "name": "stderr",
     "output_type": "stream",
     "text": [
      "[*********************100%***********************]  1 of 1 completed\n"
     ]
    },
    {
     "name": "stdout",
     "output_type": "stream",
     "text": [
      "Fetching data for TCS.NS...\n"
     ]
    },
    {
     "name": "stderr",
     "output_type": "stream",
     "text": [
      "[*********************100%***********************]  1 of 1 completed\n",
      "[*********************100%***********************]  1 of 1 completed"
     ]
    },
    {
     "name": "stdout",
     "output_type": "stream",
     "text": [
      "Fetching data for COALINDIA.NS...\n"
     ]
    },
    {
     "name": "stderr",
     "output_type": "stream",
     "text": [
      "\n"
     ]
    },
    {
     "name": "stdout",
     "output_type": "stream",
     "text": [
      "Fetching data for INFY.NS...\n"
     ]
    },
    {
     "name": "stderr",
     "output_type": "stream",
     "text": [
      "[*********************100%***********************]  1 of 1 completed\n"
     ]
    },
    {
     "name": "stdout",
     "output_type": "stream",
     "text": [
      "Fetching data for BRITANNIA.NS...\n"
     ]
    },
    {
     "name": "stderr",
     "output_type": "stream",
     "text": [
      "[*********************100%***********************]  1 of 1 completed\n"
     ]
    },
    {
     "name": "stdout",
     "output_type": "stream",
     "text": [
      "Fetching data for  ASIANPAINT.NS...\n"
     ]
    },
    {
     "name": "stderr",
     "output_type": "stream",
     "text": [
      "[*********************100%***********************]  1 of 1 completed\n"
     ]
    },
    {
     "name": "stdout",
     "output_type": "stream",
     "text": [
      "Fetching data for ITC.NS...\n"
     ]
    },
    {
     "name": "stderr",
     "output_type": "stream",
     "text": [
      "[*********************100%***********************]  1 of 1 completed\n"
     ]
    },
    {
     "name": "stdout",
     "output_type": "stream",
     "text": [
      "Fetching data for BEL.NS...\n"
     ]
    },
    {
     "name": "stderr",
     "output_type": "stream",
     "text": [
      "[*********************100%***********************]  1 of 1 completed\n"
     ]
    },
    {
     "name": "stdout",
     "output_type": "stream",
     "text": [
      "Fetching data for BAJAJ-AUTO.NS...\n"
     ]
    },
    {
     "name": "stderr",
     "output_type": "stream",
     "text": [
      "[*********************100%***********************]  1 of 1 completed\n"
     ]
    },
    {
     "name": "stdout",
     "output_type": "stream",
     "text": [
      "Fetching data for BPCL.NS...\n"
     ]
    },
    {
     "name": "stderr",
     "output_type": "stream",
     "text": [
      "[*********************100%***********************]  1 of 1 completed"
     ]
    },
    {
     "name": "stdout",
     "output_type": "stream",
     "text": [
      "\n",
      "Combined OHLCV Data:\n",
      "           NESTLEIND.NS                                                      \\\n",
      "Price         Adj Close        Close         High          Low         Open   \n",
      "Ticker     NESTLEIND.NS NESTLEIND.NS NESTLEIND.NS NESTLEIND.NS NESTLEIND.NS   \n",
      "Date                                                                          \n",
      "2018-01-01   713.439148   786.320007   790.159973   782.859985   790.000000   \n",
      "2018-01-02   713.470703   786.354980   792.304993   784.299988   785.500000   \n",
      "2018-01-03   713.157776   786.010010   793.500000   785.015015   790.000000   \n",
      "2018-01-04   713.987854   786.924988   790.219971   783.900024   786.500000   \n",
      "2018-01-05   712.853821   785.674988   788.400024   784.099976   784.630005   \n",
      "\n",
      "                              TCS.NS                                         \\\n",
      "Price            Volume    Adj Close        Close         High          Low   \n",
      "Ticker     NESTLEIND.NS       TCS.NS       TCS.NS       TCS.NS       TCS.NS   \n",
      "Date                                                                          \n",
      "2018-01-01        66060  1172.924561  1322.800049  1347.400024  1317.500000   \n",
      "2018-01-02       656130  1166.540283  1315.599976  1334.800049  1310.099976   \n",
      "2018-01-03       279480  1169.843262  1319.324951  1334.500000  1315.599976   \n",
      "2018-01-04       279020  1178.023438  1328.550049  1331.000000  1320.000000   \n",
      "2018-01-05        99700  1192.254517  1344.599976  1349.750000  1325.000000   \n",
      "\n",
      "            ... BAJAJ-AUTO.NS                                            \\\n",
      "Price       ...          High           Low          Open        Volume   \n",
      "Ticker      ... BAJAJ-AUTO.NS BAJAJ-AUTO.NS BAJAJ-AUTO.NS BAJAJ-AUTO.NS   \n",
      "Date        ...                                                           \n",
      "2018-01-01  ...   3345.050049   3276.399902        3340.0        174560   \n",
      "2018-01-02  ...   3348.000000   3280.000000        3309.0        297721   \n",
      "2018-01-03  ...   3310.199951   3231.550049        3310.0        372267   \n",
      "2018-01-04  ...   3274.250000   3219.000000        3244.0        256909   \n",
      "2018-01-05  ...   3294.000000   3244.050049        3263.0        113508   \n",
      "\n",
      "               BPCL.NS                                                  \\\n",
      "Price        Adj Close       Close        High         Low        Open   \n",
      "Ticker         BPCL.NS     BPCL.NS     BPCL.NS     BPCL.NS     BPCL.NS   \n",
      "Date                                                                     \n",
      "2018-01-01  159.391937  254.300003  261.500000  253.600006  259.000000   \n",
      "2018-01-02  156.634048  249.899994  256.475006  248.600006  255.649994   \n",
      "2018-01-03  155.098419  247.449997  252.449997  246.699997  250.074997   \n",
      "2018-01-04  154.032883  245.750000  247.750000  245.250000  247.500000   \n",
      "2018-01-05  152.841980  243.850006  247.000000  241.850006  245.500000   \n",
      "\n",
      "                     \n",
      "Price        Volume  \n",
      "Ticker      BPCL.NS  \n",
      "Date                 \n",
      "2018-01-01  3880586  \n",
      "2018-01-02  5073166  \n",
      "2018-01-03  7741628  \n",
      "2018-01-04  5440616  \n",
      "2018-01-05  5878478  \n",
      "\n",
      "[5 rows x 60 columns]\n",
      "Price        Adj Close Daily Returns Cumulative Returns\n",
      "Ticker         BPCL.NS                                 \n",
      "Date                                                   \n",
      "2018-01-01  159.391937           NaN                NaN\n",
      "2018-01-02  156.634048     -0.017303          -0.017303\n",
      "2018-01-03  155.098419     -0.009804          -0.026937\n",
      "2018-01-04  154.032883     -0.006870          -0.033622\n",
      "2018-01-05  152.841980     -0.007731          -0.041093\n",
      "Ticker       BPCL.NS\n",
      "Date                \n",
      "2018-12-31       NaN\n",
      "2019-12-31  0.507306\n",
      "2020-12-31 -0.182247\n",
      "2021-12-31  0.159349\n",
      "2022-12-31 -0.115704\n",
      "Ticker       BPCL.NS\n",
      "Date                \n",
      "2018-01-31       NaN\n",
      "2018-02-28 -0.099287\n",
      "2018-03-31 -0.004889\n",
      "2018-04-30 -0.093812\n",
      "2018-05-31  0.042855\n"
     ]
    },
    {
     "name": "stderr",
     "output_type": "stream",
     "text": [
      "\n",
      "C:\\Temp\\ipykernel_6452\\1719070306.py:31: FutureWarning: 'Y' is deprecated and will be removed in a future version, please use 'YE' instead.\n",
      "  yearly_returns = data['Adj Close'].resample('Y').ffill().pct_change()\n",
      "C:\\Temp\\ipykernel_6452\\1719070306.py:32: FutureWarning: 'M' is deprecated and will be removed in a future version, please use 'ME' instead.\n",
      "  monthly_returns = data['Adj Close'].resample('M').ffill().pct_change()\n"
     ]
    }
   ],
   "source": [
    "import yfinance as yf\n",
    "import pandas as pd\n",
    "\n",
    "# Define the ticker symbol(s) for the stock(s)\n",
    "tickers = [\"NESTLEIND.NS\", \"TCS.NS\", \"COALINDIA.NS\",\"INFY.NS\", \"BRITANNIA.NS\",\" ASIANPAINT.NS\",\"ITC.NS\",\"BEL.NS\",\"BAJAJ-AUTO.NS\",\"BPCL.NS\"]  # Replace with your desired ticker(s)\n",
    "start_date = \"2018-01-01\"\n",
    "end_date = \"2023-12-01\"\n",
    "\n",
    "# Fetch data for multiple stocks\n",
    "ohlcv_data = {}\n",
    "for ticker in tickers:\n",
    "    print(f\"Fetching data for {ticker}...\")\n",
    "    data = yf.download(ticker, start=start_date, end=end_date)\n",
    "    ohlcv_data[ticker] = data  # Store in a dictionary for later use\n",
    "\n",
    "# Combine data into a single DataFrame (optional)\n",
    "combined_data = pd.concat({ticker: data for ticker, data in ohlcv_data.items()}, axis=1)\n",
    "\n",
    "# Display the first few rows of the combined data\n",
    "print(\"\\nCombined OHLCV Data:\")\n",
    "print(combined_data.head())\n",
    "\n",
    "# Calculate daily returns\n",
    "data['Daily Returns'] = data['Adj Close'].pct_change()\n",
    "\n",
    "# Calculate cumulative returns\n",
    "data['Cumulative Returns'] = (1 + data['Daily Returns']).cumprod() - 1\n",
    "\n",
    "# Display the first few rows\n",
    "print(data[['Adj Close', 'Daily Returns', 'Cumulative Returns']].head())\n",
    "yearly_returns = data['Adj Close'].resample('Y').ffill().pct_change()\n",
    "monthly_returns = data['Adj Close'].resample('M').ffill().pct_change()\n",
    "print(yearly_returns.head())\n",
    "print(monthly_returns.head())\n",
    "\n",
    "\n"
   ]
  },
  {
   "cell_type": "markdown",
   "metadata": {},
   "source": [
    "Using T-Score, Z-Score and the confidence interval to plot the Probablity Distribution of RELIANCE on the basis of Daily Returns"
   ]
  },
  {
   "cell_type": "code",
   "execution_count": 28,
   "metadata": {},
   "outputs": [
    {
     "name": "stderr",
     "output_type": "stream",
     "text": [
      "[*********************100%***********************]  1 of 1 completed\n",
      "c:\\python312\\Lib\\site-packages\\numpy\\core\\fromnumeric.py:3643: FutureWarning: The behavior of DataFrame.std with axis=None is deprecated, in a future version this will reduce over both axes and return a scalar. To retain the old behavior, pass axis=0 (or do not pass axis)\n",
      "  return std(axis=axis, dtype=dtype, out=out, ddof=ddof, **kwargs)\n"
     ]
    },
    {
     "name": "stdout",
     "output_type": "stream",
     "text": [
      "Confidence Interval for Daily Returns: (-0.0013885562841498436, 0.0015425290604273326)\n"
     ]
    },
    {
     "data": {
      "image/png": "[encoded data removed]",
      "text/plain": [
       "<Figure size 1800x1200 with 1 Axes>"
      ]
     },
     "metadata": {},
     "output_type": "display_data"
    }
   ],
   "source": [
    "import yfinance as yf\n",
    "import numpy as np\n",
    "import pandas as pd\n",
    "import scipy.stats as stats\n",
    "import matplotlib.pyplot as plt\n",
    "import seaborn as sns\n",
    "\n",
    "# Fetch stock data\n",
    "ticker = \"RELIANCE.NS\"  # Replace with your ticker\n",
    "start_date = \"2023-01-01\"\n",
    "end_date = \"2023-12-01\"\n",
    "\n",
    "# Download historical data\n",
    "data = yf.download(ticker, start=start_date, end=end_date)\n",
    "\n",
    "# Calculate daily returns\n",
    "data['Daily Returns'] = data['Adj Close'].pct_change()\n",
    "\n",
    "# Drop NaN values\n",
    "data.dropna(inplace=True)\n",
    "\n",
    "# Calculate Z-score, T-score, and confidence intervals\n",
    "def calculate_stats(series, confidence=0.95):\n",
    "    n = len(series)\n",
    "    mean = np.mean(series)\n",
    "    std_dev = np.std(series, ddof=1)  # Sample standard deviation\n",
    "    \n",
    "    # Z-Score (standardized score)\n",
    "    z_scores = (series - mean) / std_dev\n",
    "    \n",
    "    # T-Score (for small samples)\n",
    "    t_scores = z_scores * np.sqrt(n)\n",
    "    \n",
    "    # Confidence Interval\n",
    "    margin_of_error = stats.t.ppf((1 + confidence) / 2, n - 1) * (std_dev / np.sqrt(n))\n",
    "    ci_lower = mean - margin_of_error\n",
    "    ci_upper = mean + margin_of_error\n",
    "    \n",
    "    return z_scores, t_scores, (ci_lower, ci_upper)\n",
    "\n",
    "# Calculate for Daily Returns\n",
    "z_returns, t_returns, ci_returns = calculate_stats(data['Daily Returns'])\n",
    "\n",
    "# Print confidence intervals\n",
    "print(f\"Confidence Interval for Daily Returns: {ci_returns}\")\n",
    "\n",
    "# Plot Probability Distributions\n",
    "plt.figure(figsize=(18, 12))\n",
    "\n",
    "# Daily Returns Distribution\n",
    "plt.subplot(3, 1, 3)\n",
    "sns.histplot(data['Daily Returns'], kde=True, bins=30, color=\"purple\", label=\"Daily Returns\")\n",
    "plt.axvline(ci_returns[0], color='red', linestyle='--', label=f\"CI Lower: {ci_returns[0]:.4f}\")\n",
    "plt.axvline(ci_returns[1], color='green', linestyle='--', label=f\"CI Upper: {ci_returns[1]:.4f}\")\n",
    "plt.title(\"Daily Returns Distribution\")\n",
    "plt.legend()\n",
    "\n",
    "# Show plots\n",
    "plt.tight_layout()\n",
    "plt.show()\n"
   ]
  }
 ],
 "metadata": {
  "kernelspec": {
   "display_name": "Python 3",
   "language": "python",
   "name": "python3"
  },
  "language_info": {
   "codemirror_mode": {
    "name": "ipython",
    "version": 3
   },
   "file_extension": ".py",
   "mimetype": "text/x-python",
   "name": "python",
   "nbconvert_exporter": "python",
   "pygments_lexer": "ipython3",
   "version": "3.12.0"
  }
 },
 "nbformat": 4,
 "nbformat_minor": 2
}
