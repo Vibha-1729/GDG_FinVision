{
 "cells": [
  {
   "cell_type": "code",
   "execution_count": null,
   "metadata": {},
   "outputs": [
    {
     "name": "stdout",
     "output_type": "stream",
     "text": [
      "NIFTY 50:\n",
      "ADF Test: {'ADF Statistic': -0.11323264691771068, 'p-value': 0.9481044560885789, 'Critical Values': {'1%': -3.4307876621798616, '5%': -2.8617334276969824, '10%': -2.566872956903668}}\n",
      "KPSS Test: {'KPSS Statistic': 16.921675939799037, 'p-value': 0.01, 'Critical Values': {'10%': 0.347, '5%': 0.463, '2.5%': 0.574, '1%': 0.739}, 'Number of Lags': 73}\n",
      "\n",
      "Pre Open NIFTY 50:\n",
      "ADF Test: {'ADF Statistic': -4.976386534164731, 'p-value': 2.4709423847092437e-05, 'Critical Values': {'1%': -3.4450642060791097, '5%': -2.868027634065253, '10%': -2.5702256691640515}}\n",
      "KPSS Test: {'KPSS Statistic': 2.251793428535948, 'p-value': 0.01, 'Critical Values': {'10%': 0.347, '5%': 0.463, '2.5%': 0.574, '1%': 0.739}, 'Number of Lags': 12}\n"
     ]
    },
    {
     "name": "stderr",
     "output_type": "stream",
     "text": [
      "C:\\Temp\\ipykernel_4268\\4129356822.py:21: InterpolationWarning: The test statistic is outside of the range of p-values available in the\n",
      "look-up table. The actual p-value is smaller than the p-value returned.\n",
      "\n",
      "  kpss_stat, p_value, n_lags, critical_values = kpss(series, regression=regression)\n",
      "C:\\Temp\\ipykernel_4268\\4129356822.py:21: InterpolationWarning: The test statistic is outside of the range of p-values available in the\n",
      "look-up table. The actual p-value is smaller than the p-value returned.\n",
      "\n",
      "  kpss_stat, p_value, n_lags, critical_values = kpss(series, regression=regression)\n"
     ]
    }
   ],
   "source": [
    "import pandas as pd\n",
    "from statsmodels.tsa.stattools import adfuller, kpss\n",
    "\n",
    "# Load the dataset\n",
    "data = pd.read_csv('chart.csv')\n",
    "\n",
    "# Convert 'DateTime' to datetime format\n",
    "data['DateTime'] = pd.to_datetime(data['DateTime'])\n",
    "\n",
    "# Clean the data for 'NIFTY 50'\n",
    "data_clean = data[['DateTime', 'NIFTY 50']].dropna()\n",
    "data_clean.set_index('DateTime', inplace=True)\n",
    "\n",
    "# Clean the data for 'Pre Open NIFTY 50'\n",
    "data_pre_open = data[['DateTime', 'Pre Open NIFTY 50']].dropna()\n",
    "data_pre_open.set_index('DateTime', inplace=True)\n",
    "\n",
    "# Function to perform KPSS test\n",
    "def kpss_test(series, regression='c'):\n",
    "    from statsmodels.tsa.stattools import kpss\n",
    "    kpss_stat, p_value, n_lags, critical_values = kpss(series, regression=regression)\n",
    "    return {\n",
    "        \"KPSS Statistic\": kpss_stat,\n",
    "        \"p-value\": p_value,\n",
    "        \"Critical Values\": critical_values,\n",
    "        \"Number of Lags\": n_lags\n",
    "    }\n",
    "\n",
    "# ADF Test Results\n",
    "def adf_test(series):\n",
    "    adf_result = adfuller(series)\n",
    "    return {\n",
    "        \"ADF Statistic\": adf_result[0],\n",
    "        \"p-value\": adf_result[1],\n",
    "        \"Critical Values\": adf_result[4]\n",
    "    }\n",
    "\n",
    "# Perform ADF and KPSS Tests\n",
    "\n",
    "print(\"NIFTY 50:\")\n",
    "print(\"ADF Test:\", adf_test(data_clean['NIFTY 50']))\n",
    "print(\"KPSS Test:\", kpss_test(data_clean['NIFTY 50']))\n",
    "\n",
    "print(\"\\nPre Open NIFTY 50:\")\n",
    "print(\"ADF Test:\", adf_test(data_pre_open['Pre Open NIFTY 50']))\n",
    "print(\"KPSS Test:\", kpss_test(data_pre_open['Pre Open NIFTY 50']))\n"
   ]
  },
  {
   "cell_type": "markdown",
   "metadata": {},
   "source": [
    "ADF Test:\n",
    "\n",
    "Null Hypothesis (H₀): The series is non-stationary.\n",
    "If p-value < 0.05, reject H₀ → the series is stationary.\n",
    "KPSS Test:\n",
    "\n",
    "Null Hypothesis (H₀): The series is stationary.\n",
    "If p-value < 0.05, reject H₀ → the series is non-stationary.\n",
    "\n",
    "Combined Analysis:\n",
    "\n",
    "If ADF indicates stationarity (rejects non-stationarity) and KPSS fails to reject stationarity, the series is stationary.\n",
    "If ADF indicates non-stationarity (does not reject H₀) or KPSS rejects stationarity, the series is non-stationary.\n",
    "\n",
    "NIFTY 50:\n",
    "ADF Test:\n",
    "p-value = 0.948 → Fail to reject H₀ → Non-Stationary.\n",
    "KPSS Test: \n",
    "If p-value < 0.05 → Reject H₀ → Non-Stationary.\n",
    "\n",
    "NIFTY 50 is non-stationary. "
   ]
  }
 ],
 "metadata": {
  "kernelspec": {
   "display_name": "Python 3",
   "language": "python",
   "name": "python3"
  },
  "language_info": {
   "codemirror_mode": {
    "name": "ipython",
    "version": 3
   },
   "file_extension": ".py",
   "mimetype": "text/x-python",
   "name": "python",
   "nbconvert_exporter": "python",
   "pygments_lexer": "ipython3",
   "version": "3.12.0"
  }
 },
 "nbformat": 4,
 "nbformat_minor": 2
}
